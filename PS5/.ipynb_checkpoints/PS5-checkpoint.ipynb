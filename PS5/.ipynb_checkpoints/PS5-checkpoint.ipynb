{
 "cells": [
  {
   "cell_type": "code",
   "execution_count": 6,
   "metadata": {
    "collapsed": true
   },
   "outputs": [],
   "source": [
    "%matplotlib inline\n",
    "import pylab as p\n",
    "import numpy as np\n",
    "import fsps"
   ]
  },
  {
   "cell_type": "markdown",
   "metadata": {},
   "source": [
    "### Problem 1: UV Star Formation Rates\n",
    "\n",
    "We wish to derive a relationship between the star formation rate and the FUV luminosity\n",
    "\\begin{align}\n",
    "\\log\\dot{M_*}=\\log L_{\\rm FUV}-\\log C_{\\rm FUV}\n",
    "\\end{align}\n",
    "\n",
    "where $C_{\\rm FUV}$ is some as-yet undetermined constant. We run FSPS, assuming a constant star formation history, a Kroupa IMF, and solar metallicity."
   ]
  },
  {
   "cell_type": "code",
   "execution_count": 8,
   "metadata": {
    "collapsed": false
   },
   "outputs": [],
   "source": [
    "sp = fsps.StellarPopulation(compute_vega_mags=False,sfh=1,const=1.0)\n",
    "sp.params['sfh'] = 1\n",
    "sp.params['const'] = 1.0\n",
    "#sp.params['tage'] = 13.7"
   ]
  },
  {
   "cell_type": "markdown",
   "metadata": {},
   "source": [
    "We are interested in the GALEX-FUV filter, and so we use that value to infer the star formation rate. Note that FSPS gives answers in terms of the AB-magnitude system, so we have to convert this to get a luminosity $L_{\\rm FUV}$. An AB-Magnitude is defined as\n",
    "\\begin{align}\n",
    "M_{\\rm AB}=-2.5\\log_{10}F_\\nu - 48.6\n",
    "\\end{align}\n",
    "\n",
    "The specific luminosity in terms of the specific flux is\n",
    "\\begin{align}\n",
    "F_\\nu = \\frac{L_\\nu}{4\\pi r^2}\n",
    "\\end{align}\n",
    "\n",
    "where $r=10$ pc. We are interested in the total FUV luminosity rather than the FUV luminosity, so we need to solve for\n",
    "\\begin{align}\n",
    "L_{\\rm FUV}=\\nu L_\\nu\n",
    "\\end{align}\n",
    "\n",
    "where $\\nu$ is the effective GALEX FUV frequency. The all-powerful and all-knowing internet provides us with the effective wavelength\n",
    "\n",
    "\\begin{align}\n",
    "\\lambda_{\\rm eff} = 153.9\\,\\,{\\rm nm}\n",
    "\\end{align}\n",
    "\n",
    "Backtracking everything, we finally find\n",
    "\n",
    "\\begin{align}\n",
    "L_{\\rm FUV} = 4\\pi r^2 \\frac{c}{\\lambda}\\,{\\rm pow}(-(M_{\\rm AB}+48.6)/2.5,10)\n",
    "\\end{align}\n",
    "\n",
    "FSPS tells us that at present-day, assuming constant SFH, the GALEX FUV filter gives\n",
    "\\begin{align}\n",
    "M_{\\rm AB} = 6.2\n",
    "\\end{align}\n",
    "\n",
    "So we get a luminosity\n",
    "\n",
    "\\begin{align}\n",
    "\\log_{10}L_{\\rm FUV} = 33.4\n",
    "\\end{align}\n",
    "I found an FSPS SFR of\n",
    "\\begin{align}\n",
    "\\log_{10}\\dot{M}_*=-10.1\n",
    "\\end{align}\n",
    "\n",
    "And so\n",
    "\n",
    "\\begin{align}\n",
    "\\log_{10}C_{\\rm FUV} &= \\log_{10}L_{\\rm FUV}-\\log_{10}\\dot{M}_* \\\\\n",
    "&= 43.5\n",
    "\\end{align}"
   ]
  },
  {
   "cell_type": "code",
   "execution_count": 11,
   "metadata": {
    "collapsed": false,
    "scrolled": true
   },
   "outputs": [
    {
     "data": {
      "text/plain": [
       "(array([ 6.2191321]), 7.2992700729927016e-11)"
      ]
     },
     "execution_count": 11,
     "metadata": {},
     "output_type": "execute_result"
    }
   ],
   "source": [
    "mag = sp.get_mags(tage=13.7,bands=fsps.find_filter('galex_fuv'))\n",
    "sfr = sp.sfr\n",
    "mag,sfr"
   ]
  },
  {
   "cell_type": "markdown",
   "metadata": {},
   "source": [
    "Kennicutt & Evans (2012) found that $\\log_{10}C_{\\rm FUV}=43.35$, which is only slightly different than what I had found. Since this is of order a few percent, I can only speculate what some of the differences would be caused by. Observations apply a dust-correction, so maybe this is where the (small) discrepancy comes from."
   ]
  },
  {
   "cell_type": "markdown",
   "metadata": {
    "collapsed": true
   },
   "source": [
    "### Problem 2: Stellar Mass\n",
    "\n",
    "We do the same operations above to find a relation between the absolute B-band (instead of FUV) magnitude and the stellar mass (instead of the star formation rate). We convert an AB to absolute magnitude by simply multiplying $F_\\nu$ by $4\\pi r^2$, where $r=10$ pc as usual. "
   ]
  },
  {
   "cell_type": "code",
   "execution_count": 15,
   "metadata": {
    "collapsed": false
   },
   "outputs": [
    {
     "data": {
      "text/plain": [
       "(array([ 5.3391398]), 0.60398341295900082)"
      ]
     },
     "execution_count": 15,
     "metadata": {},
     "output_type": "execute_result"
    }
   ],
   "source": [
    "mag_b = sp.get_mags(tage=13.7,bands=['b'])\n",
    "mass = sp.stellar_mass\n",
    "\n",
    "mag_b, mass"
   ]
  },
  {
   "cell_type": "markdown",
   "metadata": {
    "collapsed": true
   },
   "source": [
    "### Problem 3: Metallicity"
   ]
  },
  {
   "cell_type": "code",
   "execution_count": null,
   "metadata": {
    "collapsed": true
   },
   "outputs": [],
   "source": []
  }
 ],
 "metadata": {
  "kernelspec": {
   "display_name": "Python 3",
   "language": "python",
   "name": "python3"
  },
  "language_info": {
   "codemirror_mode": {
    "name": "ipython",
    "version": 3
   },
   "file_extension": ".py",
   "mimetype": "text/x-python",
   "name": "python",
   "nbconvert_exporter": "python",
   "pygments_lexer": "ipython3",
   "version": "3.5.1"
  }
 },
 "nbformat": 4,
 "nbformat_minor": 0
}
