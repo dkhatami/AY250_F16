{
 "cells": [
  {
   "cell_type": "code",
   "execution_count": 41,
   "metadata": {
    "collapsed": true
   },
   "outputs": [],
   "source": [
    "%matplotlib inline\n",
    "import pylab as p\n",
    "import numpy as np\n",
    "import fsps"
   ]
  },
  {
   "cell_type": "markdown",
   "metadata": {},
   "source": [
    "## Note: I just realized that I could've done all the math here instead of on Mathematica (out of habit), so sorry for not having that shown. :(\n",
    "\n",
    "### Problem 1: UV Star Formation Rates\n",
    "\n",
    "We wish to derive a relationship between the star formation rate and the FUV luminosity\n",
    "\\begin{align}\n",
    "\\log\\dot{M_*}=\\log L_{\\rm FUV}-\\log C_{\\rm FUV}\n",
    "\\end{align}\n",
    "\n",
    "where $C_{\\rm FUV}$ is some as-yet undetermined constant. We run FSPS, assuming a constant star formation history, a Kroupa IMF, and solar metallicity."
   ]
  },
  {
   "cell_type": "code",
   "execution_count": 44,
   "metadata": {
    "collapsed": false
   },
   "outputs": [],
   "source": [
    "sp = fsps.StellarPopulation(compute_vega_mags=False,sfh=1,const=1.0)\n",
    "sp.params['sfh'] = 1\n",
    "sp.params['const'] = 1.0\n",
    "#sp.params['tage'] = 13.7"
   ]
  },
  {
   "cell_type": "markdown",
   "metadata": {},
   "source": [
    "We are interested in the GALEX-FUV filter, and so we use that value to infer the star formation rate. Note that FSPS gives answers in terms of the AB-magnitude system, so we have to convert this to get a luminosity $L_{\\rm FUV}$. An AB-Magnitude is defined as\n",
    "\\begin{align}\n",
    "M_{\\rm AB}=-2.5\\log_{10}F_\\nu - 48.6\n",
    "\\end{align}\n",
    "\n",
    "The specific luminosity in terms of the specific flux is\n",
    "\\begin{align}\n",
    "F_\\nu = \\frac{L_\\nu}{4\\pi r^2}\n",
    "\\end{align}\n",
    "\n",
    "where $r=10$ pc. We are interested in the total FUV luminosity rather than the FUV luminosity, so we need to solve for\n",
    "\\begin{align}\n",
    "L_{\\rm FUV}=\\nu L_\\nu\n",
    "\\end{align}\n",
    "\n",
    "where $\\nu$ is the effective GALEX FUV frequency. The all-powerful and all-knowing internet provides us with the effective wavelength\n",
    "\n",
    "\\begin{align}\n",
    "\\lambda_{\\rm eff} = 153.9\\,\\,{\\rm nm}\n",
    "\\end{align}\n",
    "\n",
    "Backtracking everything, we finally find\n",
    "\n",
    "\\begin{align}\n",
    "L_{\\rm FUV} = 4\\pi r^2 \\frac{c}{\\lambda}\\,{\\rm pow}(-(M_{\\rm AB}+48.6)/2.5,10)\n",
    "\\end{align}\n",
    "\n",
    "FSPS tells us that at present-day, assuming constant SFH, the GALEX FUV filter gives\n",
    "\\begin{align}\n",
    "M_{\\rm AB} = 6.2\n",
    "\\end{align}\n",
    "\n",
    "So we get a luminosity\n",
    "\n",
    "\\begin{align}\n",
    "\\log_{10}L_{\\rm FUV} = 33.4\n",
    "\\end{align}\n",
    "I found an FSPS SFR of\n",
    "\\begin{align}\n",
    "\\log_{10}\\dot{M}_*=-10.1\n",
    "\\end{align}\n",
    "\n",
    "And so\n",
    "\n",
    "\\begin{align}\n",
    "\\log_{10}C_{\\rm FUV} &= \\log_{10}L_{\\rm FUV}-\\log_{10}\\dot{M}_* \\\\\n",
    "&= 43.5\n",
    "\\end{align}"
   ]
  },
  {
   "cell_type": "code",
   "execution_count": 11,
   "metadata": {
    "collapsed": false,
    "scrolled": true
   },
   "outputs": [
    {
     "data": {
      "text/plain": [
       "(array([ 6.2191321]), 7.2992700729927016e-11)"
      ]
     },
     "execution_count": 11,
     "metadata": {},
     "output_type": "execute_result"
    }
   ],
   "source": [
    "mag = sp.get_mags(tage=13.7,bands=fsps.find_filter('galex_fuv'))\n",
    "sfr = sp.sfr\n",
    "mag,sfr"
   ]
  },
  {
   "cell_type": "markdown",
   "metadata": {},
   "source": [
    "Kennicutt & Evans (2012) found that $\\log_{10}C_{\\rm FUV}=43.35$, which is only slightly different than what I had found. Since this is of order a few percent, I can only speculate what some of the differences would be caused by. Observations apply a dust-correction, so maybe this is where the (small) discrepancy comes from."
   ]
  },
  {
   "cell_type": "markdown",
   "metadata": {
    "collapsed": true
   },
   "source": [
    "### Problem 2: Stellar Mass\n"
   ]
  },
  {
   "cell_type": "code",
   "execution_count": 16,
   "metadata": {
    "collapsed": false
   },
   "outputs": [
    {
     "data": {
      "text/plain": [
       "(array([ 5.3391398]), 0.60398341295900082)"
      ]
     },
     "execution_count": 16,
     "metadata": {},
     "output_type": "execute_result"
    }
   ],
   "source": [
    "mag_b = sp.get_mags(tage=13.7,bands=['b'])\n",
    "mass = sp.stellar_mass\n",
    "\n",
    "mag_b, mass"
   ]
  },
  {
   "cell_type": "markdown",
   "metadata": {
    "collapsed": true
   },
   "source": [
    "### Problem 3: Metallicity\n",
    "\n",
    "First we need to find the absolute B-band magnitudes $M_B$ from the galaxy sample. So we need to solve for the distance modulus\n",
    "\\begin{align}\n",
    "\\mu = -5(\\log_{10}d-1)\n",
    "\\end{align}"
   ]
  },
  {
   "cell_type": "code",
   "execution_count": 45,
   "metadata": {
    "collapsed": false
   },
   "outputs": [],
   "source": [
    "dist = np.loadtxt(\"galaxies.dat\",skiprows=1,usecols=[7]) #in Mpc\n",
    "mag_b = np.loadtxt(\"galaxies.dat\",skiprows=1,usecols=[8]) #apparent B"
   ]
  },
  {
   "cell_type": "code",
   "execution_count": 46,
   "metadata": {
    "collapsed": false
   },
   "outputs": [],
   "source": [
    "dist_modulus = -5.*np.log10(dist*1e6)+5\n",
    "abs_b = mag_b + dist_modulus"
   ]
  },
  {
   "cell_type": "markdown",
   "metadata": {},
   "source": [
    "Next, we can use Eq. (8) from Berg et al. (2012) to find the metallicity\n",
    "\n",
    "\\begin{align}\n",
    "12+\\log(O/H) = (6.59\\pm0.32)+(-0.08\\pm0.03)M_B\n",
    "\\end{align}"
   ]
  },
  {
   "cell_type": "code",
   "execution_count": 52,
   "metadata": {
    "collapsed": false
   },
   "outputs": [
    {
     "data": {
      "image/png": "[encoded data removed]",
      "text/plain": [
       "<matplotlib.figure.Figure at 0x148c13860>"
      ]
     },
     "metadata": {},
     "output_type": "display_data"
    }
   ],
   "source": [
    "z_oh = 6.59-0.08*abs_b\n",
    "\n",
    "p.hist(z_oh,bins=20)\n",
    "p.xlabel(r'$\\log(O/H)$')\n",
    "p.show()"
   ]
  },
  {
   "cell_type": "markdown",
   "metadata": {},
   "source": [
    "### Problem 4: Trends in SFR, Mass, and Metallicity"
   ]
  },
  {
   "cell_type": "code",
   "execution_count": 84,
   "metadata": {
    "collapsed": false
   },
   "outputs": [],
   "source": [
    "mass = 4.-abs_b/3."
   ]
  },
  {
   "cell_type": "code",
   "execution_count": 85,
   "metadata": {
    "collapsed": false
   },
   "outputs": [],
   "source": [
    "fuv = np.loadtxt(\"galaxies.dat\",skiprows=1,usecols=[11])\n",
    "fuv_err = np.loadtxt(\"galaxies.dat\",skiprows=1,usecols=[12])\n",
    "nonzero = np.where(fuv!=99.99)\n",
    "fuv = fuv[nonzero]\n",
    "fuv_err = fuv_err[nonzero]\n",
    "\n",
    "fuv_lum = np.log10(4*np.pi*(10*3e18)**2*3e10/(153.9e-7)*10**(-(fuv+48.6)/2.5))\n",
    "sfr = fuv_lum-43.5\n",
    "\n",
    "mass_nonzero = mass[nonzero]"
   ]
  },
  {
   "cell_type": "code",
   "execution_count": 89,
   "metadata": {
    "collapsed": false
   },
   "outputs": [
    {
     "data": {
      "text/plain": [
       "<matplotlib.text.Text at 0x148ee3e10>"
      ]
     },
     "execution_count": 89,
     "metadata": {},
     "output_type": "execute_result"
    },
    {
     "data": {
      "image/png": "[encoded data removed]",
      "text/plain": [
       "<matplotlib.figure.Figure at 0x149bee4e0>"
      ]
     },
     "metadata": {},
     "output_type": "display_data"
    }
   ],
   "source": [
    "p.scatter(sfr,mass_nonzero)\n",
    "p.xlabel(\" Log Star Formation Rate\")\n",
    "p.ylabel(\"Log Mass\")"
   ]
  },
  {
   "cell_type": "code",
   "execution_count": null,
   "metadata": {
    "collapsed": true
   },
   "outputs": [],
   "source": []
  }
 ],
 "metadata": {
  "kernelspec": {
   "display_name": "Python 3",
   "language": "python",
   "name": "python3"
  },
  "language_info": {
   "codemirror_mode": {
    "name": "ipython",
    "version": 3
   },
   "file_extension": ".py",
   "mimetype": "text/x-python",
   "name": "python",
   "nbconvert_exporter": "python",
   "pygments_lexer": "ipython3",
   "version": "3.5.1"
  }
 },
 "nbformat": 4,
 "nbformat_minor": 0
}
